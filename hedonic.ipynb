{
 "cells": [
  {
   "cell_type": "markdown",
   "metadata": {},
   "source": [
    "# Hedonic Clustering\n",
    "> _Finding Clusters with Cooperative Game Theory._<br/>\n",
    "> A research experiment of _Daniel Sadoc_$^\\ast$ and _Lucas Lopes_$^\\ast$.<br/>\n",
    "> $^\\ast$Federal University of Rio de Janeiro.<br/>\n",
    "> December, 2018.\n",
    "\n",
    "## Parameters\n",
    "For convenience and reachability, let's put the parameters on top.<br/>\n",
    "_Verbose_ will print algorithm's steps. To understand the others parameters, click: [dataset](), [initial]() and [alpha]()"
   ]
  },
  {
   "cell_type": "code",
   "execution_count": 1,
   "metadata": {},
   "outputs": [],
   "source": [
    "#samples/sample_2.csv\n",
    "#conference/conference.csv\n",
    "#terrorist/terrorists.csv\n",
    "dataset = \"datasets/samples/sample_2.csv\"\n",
    "initial = ['e']\n",
    "verbose = True\n",
    "alpha   = 0.95"
   ]
  },
  {
   "cell_type": "markdown",
   "metadata": {},
   "source": [
    "## Main Function\n",
    "\n",
    "The hedonic function tells how good a node is 'fit' in a given network.\n",
    "It takes:\n",
    "\n",
    "1. A $\\alpha$ value, where $\\alpha \\in [0,1]$ (_closer to 1 is broader_);\n",
    "2. The number of vertices in a particular graph;\n",
    "3. The number of connections that a node (in this graph) has.\n",
    "\n",
    "And returns the _\"score\"_ of that node."
   ]
  },
  {
   "cell_type": "code",
   "execution_count": 2,
   "metadata": {},
   "outputs": [],
   "source": [
    "def hedonic(alpha, num_vert, my_connections):\n",
    "    a = (1 - alpha) *             my_connections\n",
    "    b =      alpha  * (num_vert - my_connections - 1)\n",
    "    return a - b"
   ]
  },
  {
   "cell_type": "markdown",
   "metadata": {},
   "source": [
    "## Helper Functions"
   ]
  },
  {
   "cell_type": "markdown",
   "metadata": {},
   "source": [
    "### Converting a CSV file to a Python Dictionary\n",
    "\n",
    "Since the graph network is represented as a dictonary in the form$^\\ast$, and usually a dataset that stores a network is in the _.csv_ format, it is helpful that have a function that convert a dataset in a form that the algorithm can read and operate on it.\n",
    "\n",
    "To do so, the _.csv_ file must be in the following way:\n",
    "\n",
    "| From Node | To Node  |\n",
    "| :-------: | :------: |\n",
    "| _number_  | _number_ |\n",
    "\n",
    "$^\\ast$**Key** is the vertices; and **Value** is a list of its connections."
   ]
  },
  {
   "cell_type": "code",
   "execution_count": 3,
   "metadata": {},
   "outputs": [],
   "source": [
    "import csv\n",
    "\n",
    "def join(d, a, b):\n",
    "    if a not in d:\n",
    "        d[a] = [b]\n",
    "    elif b not in d[a]:\n",
    "        d[a].append(b)\n",
    "    return d\n",
    "\n",
    "def csv_2_dict(file):\n",
    "    d = {}\n",
    "    with open(file, 'r') as f:\n",
    "        table = csv.reader(f)\n",
    "        for row in table:\n",
    "            a = int(row[0])\n",
    "            b = int(row[1])\n",
    "            d = join(d, a, b)\n",
    "            d = join(d, b, a)\n",
    "    return d"
   ]
  },
  {
   "cell_type": "markdown",
   "metadata": {},
   "source": [
    "### Doing graph operations in a Dictionary\n",
    "\n",
    "It is possible to do many operations in a graph, such as:\n",
    "\n",
    "- Add a new vertice;\n",
    "- Remove an old one;\n",
    "- Move a node from a graph to another.\n",
    "\n",
    "So here are helper functions to do that above operations. But before that, we need to import the _copy_ library because of this$^\\ast$.\n",
    "\n",
    "$^\\ast$`dict.copy()` method do a [shallow copy](https://docs.python.org/2/library/stdtypes.html#dict.copy). We need a [deep copy](https://docs.python.org/2/library/copy.html#copy.deepcopy) to avoid [this problem](https://stackoverflow.com/questions/3975376/understanding-dict-copy-shallow-or-deep)."
   ]
  },
  {
   "cell_type": "code",
   "execution_count": 4,
   "metadata": {},
   "outputs": [],
   "source": [
    "import copy\n",
    "\n",
    "def add(other, node):\n",
    "    g = copy.deepcopy(other)\n",
    "    g[node] = []\n",
    "    for key in g:\n",
    "        if node in graph[key]:\n",
    "            g[key].append(node)\n",
    "            g[node].append(key)\n",
    "    return g\n",
    "\n",
    "def remove(original, node):\n",
    "    g = copy.deepcopy(original)\n",
    "    for v in g[node]:\n",
    "        g[v].remove(node)\n",
    "    g.pop(node)\n",
    "    return g\n",
    "\n",
    "def move(values, refer, other):\n",
    "    if type(values) is list:\n",
    "        for v in values:\n",
    "            other = add(other, v)\n",
    "            refer = remove(refer, v)\n",
    "    else:\n",
    "        other = add(other, values)\n",
    "        refer = remove(refer, values)\n",
    "    return refer, other"
   ]
  },
  {
   "cell_type": "markdown",
   "metadata": {},
   "source": [
    "### Creating the initial condicions"
   ]
  },
  {
   "cell_type": "code",
   "execution_count": 5,
   "metadata": {},
   "outputs": [],
   "source": [
    "import random\n",
    "\n",
    "def rand(amount):\n",
    "    v = []\n",
    "    i = 0\n",
    "    if amount < 0:\n",
    "        amount += len(graph)\n",
    "    while i < amount:\n",
    "        r = random.choice(list(graph.keys()))\n",
    "        if r not in v:\n",
    "            v.append(r)\n",
    "            i += 1\n",
    "    return v"
   ]
  },
  {
   "cell_type": "code",
   "execution_count": 6,
   "metadata": {},
   "outputs": [],
   "source": [
    "def init(option):\n",
    "    \n",
    "    if option[0] == 's':\n",
    "        return option[1]\n",
    "    \n",
    "    if option[0] == 'r':\n",
    "        return rand(option[1])\n",
    "    \n",
    "    if option[0] == 'e':\n",
    "        return []"
   ]
  },
  {
   "cell_type": "markdown",
   "metadata": {},
   "source": [
    "### Printing steps information"
   ]
  },
  {
   "cell_type": "code",
   "execution_count": 7,
   "metadata": {},
   "outputs": [],
   "source": [
    "def print_desire(n, m, s):\n",
    "    print('node:', n, '| move: {:.2f} | stay: {:.2f}'.format(m, s))\n",
    "\n",
    "def print_node(w):\n",
    "    print('\\n-> will move:', w[0], '| its alpha: {:.2f}'.format(w[1]))\n",
    "    \n",
    "separator  = '\\n%%%%%%%%%%%%%%%%%%%%%%%%%%%%%%%%%%%\\n'\n",
    "graph_diff = '----- /remain\\ ---- \\cluster/ -----'"
   ]
  },
  {
   "cell_type": "markdown",
   "metadata": {},
   "source": [
    "## Learning Funcions"
   ]
  },
  {
   "cell_type": "markdown",
   "metadata": {},
   "source": [
    "### Tells if a node what to move and how much"
   ]
  },
  {
   "cell_type": "code",
   "execution_count": 8,
   "metadata": {},
   "outputs": [],
   "source": [
    "def want_to_move(node, here, other):\n",
    "    stay_desire = hedonic(alpha, len(here), len(here[node]))\n",
    "    there       = add(other, node)\n",
    "    move_desire = hedonic(alpha, len(there), len(there[node]))\n",
    "    \n",
    "    if verbose: print_desire(node, move_desire, stay_desire)\n",
    "    \n",
    "    if move_desire >= stay_desire:\n",
    "        return move_desire\n",
    "    else:\n",
    "        return float(\"-inf\")"
   ]
  },
  {
   "cell_type": "markdown",
   "metadata": {},
   "source": [
    "### Who is the node that want to move?"
   ]
  },
  {
   "cell_type": "code",
   "execution_count": 9,
   "metadata": {},
   "outputs": [],
   "source": [
    "def who_want_move(chosen_node, my_graph, other_graph):\n",
    "\n",
    "    for key in my_graph:\n",
    "        node_desire = want_to_move(key, my_graph, other_graph)\n",
    "        \n",
    "        if chosen_node[1] < node_desire:\n",
    "            chosen_node = [key, node_desire]\n",
    "    \n",
    "    return chosen_node"
   ]
  },
  {
   "cell_type": "markdown",
   "metadata": {},
   "source": [
    "### Trainning Loop"
   ]
  },
  {
   "cell_type": "code",
   "execution_count": 10,
   "metadata": {},
   "outputs": [],
   "source": [
    "def local_cluster(remain, cluster):\n",
    "    \n",
    "    wanna_move = True\n",
    "    while wanna_move:\n",
    "\n",
    "        if verbose:   print(separator)\n",
    "        chosen_node = [None, float(\"-inf\")]\n",
    "        chosen_node = who_want_move(chosen_node, remain, cluster)\n",
    "        if verbose:   print(graph_diff)\n",
    "        chosen_node = who_want_move(chosen_node, cluster, remain)\n",
    "        if verbose:   print_node(chosen_node)\n",
    "        \n",
    "        if chosen_node[0]:\n",
    "            if chosen_node[0] in remain:\n",
    "                remain, cluster = move(chosen_node[0], remain, cluster)\n",
    "            else:\n",
    "                remain, cluster = move(chosen_node[0], cluster, remain)\n",
    "        else:\n",
    "            wanna_move = False\n",
    "\n",
    "    return remain, cluster"
   ]
  },
  {
   "cell_type": "markdown",
   "metadata": {},
   "source": [
    "### Create the Remain and Cluster graphs and update them"
   ]
  },
  {
   "cell_type": "code",
   "execution_count": 11,
   "metadata": {},
   "outputs": [],
   "source": [
    "graph = csv_2_dict(dataset)\n",
    "init  = init(initial)"
   ]
  },
  {
   "cell_type": "code",
   "execution_count": 12,
   "metadata": {},
   "outputs": [],
   "source": [
    "from datetime import datetime\n",
    "begin = datetime.now()"
   ]
  },
  {
   "cell_type": "code",
   "execution_count": 13,
   "metadata": {
    "scrolled": false
   },
   "outputs": [
    {
     "name": "stdout",
     "output_type": "stream",
     "text": [
      "\n",
      "%%%%%%%%%%%%%%%%%%%%%%%%%%%%%%%%%%%\n",
      "\n",
      "node: 1 | move: 0.00 | stay: -5.65\n",
      "node: 3 | move: 0.00 | stay: -2.65\n",
      "node: 2 | move: 0.00 | stay: -5.65\n",
      "node: 4 | move: 0.00 | stay: -2.65\n",
      "node: 5 | move: 0.00 | stay: -2.65\n",
      "node: 6 | move: 0.00 | stay: -2.65\n",
      "node: 7 | move: 0.00 | stay: -4.65\n",
      "node: 8 | move: 0.00 | stay: -4.65\n",
      "----- /remain\\ ---- \\cluster/ -----\n",
      "\n",
      "-> will move: 1 | its alpha: 0.00\n",
      "\n",
      "%%%%%%%%%%%%%%%%%%%%%%%%%%%%%%%%%%%\n",
      "\n",
      "node: 3 | move: 0.05 | stay: -2.70\n",
      "node: 2 | move: -0.95 | stay: -4.70\n",
      "node: 4 | move: -0.95 | stay: -1.70\n",
      "node: 5 | move: -0.95 | stay: -1.70\n",
      "node: 6 | move: -0.95 | stay: -1.70\n",
      "node: 7 | move: -0.95 | stay: -3.70\n",
      "node: 8 | move: -0.95 | stay: -3.70\n",
      "----- /remain\\ ---- \\cluster/ -----\n",
      "node: 1 | move: -5.65 | stay: 0.00\n",
      "\n",
      "-> will move: 3 | its alpha: 0.05\n",
      "\n",
      "%%%%%%%%%%%%%%%%%%%%%%%%%%%%%%%%%%%\n",
      "\n",
      "node: 2 | move: -1.90 | stay: -3.75\n",
      "node: 4 | move: -0.90 | stay: -1.75\n",
      "node: 5 | move: -0.90 | stay: -1.75\n",
      "node: 6 | move: -0.90 | stay: -1.75\n",
      "node: 7 | move: -1.90 | stay: -2.75\n",
      "node: 8 | move: -1.90 | stay: -2.75\n",
      "----- /remain\\ ---- \\cluster/ -----\n",
      "node: 1 | move: -5.70 | stay: 0.05\n",
      "node: 3 | move: -2.70 | stay: 0.05\n",
      "\n",
      "-> will move: 4 | its alpha: -0.90\n",
      "\n",
      "%%%%%%%%%%%%%%%%%%%%%%%%%%%%%%%%%%%\n",
      "\n",
      "node: 2 | move: -1.85 | stay: -3.80\n",
      "node: 5 | move: -0.85 | stay: -1.80\n",
      "node: 6 | move: -0.85 | stay: -1.80\n",
      "node: 7 | move: -2.85 | stay: -1.80\n",
      "node: 8 | move: -2.85 | stay: -1.80\n",
      "----- /remain\\ ---- \\cluster/ -----\n",
      "node: 1 | move: -4.75 | stay: -0.90\n",
      "node: 3 | move: -2.75 | stay: 0.10\n",
      "node: 4 | move: -1.75 | stay: -0.90\n",
      "\n",
      "-> will move: 5 | its alpha: -0.85\n",
      "\n",
      "%%%%%%%%%%%%%%%%%%%%%%%%%%%%%%%%%%%\n",
      "\n",
      "node: 2 | move: -2.80 | stay: -2.85\n",
      "node: 6 | move: -0.80 | stay: -1.85\n",
      "node: 7 | move: -2.80 | stay: -1.85\n",
      "node: 8 | move: -3.80 | stay: -0.85\n",
      "----- /remain\\ ---- \\cluster/ -----\n",
      "node: 1 | move: -3.80 | stay: -1.85\n",
      "node: 3 | move: -2.80 | stay: 0.15\n",
      "node: 4 | move: -1.80 | stay: -0.85\n",
      "node: 5 | move: -1.80 | stay: -0.85\n",
      "\n",
      "-> will move: 6 | its alpha: -0.80\n",
      "\n",
      "%%%%%%%%%%%%%%%%%%%%%%%%%%%%%%%%%%%\n",
      "\n",
      "node: 2 | move: -3.75 | stay: -1.90\n",
      "node: 7 | move: -3.75 | stay: -0.90\n",
      "node: 8 | move: -3.75 | stay: -0.90\n",
      "----- /remain\\ ---- \\cluster/ -----\n",
      "node: 1 | move: -2.85 | stay: -2.80\n",
      "node: 3 | move: -2.85 | stay: 0.20\n",
      "node: 4 | move: -1.85 | stay: -0.80\n",
      "node: 5 | move: -1.85 | stay: -0.80\n",
      "node: 6 | move: -1.85 | stay: -0.80\n",
      "\n",
      "-> will move: None | its alpha: -inf\n"
     ]
    }
   ],
   "source": [
    "remain, cluster = move(init, graph, {})\n",
    "remain, cluster = local_cluster(remain, cluster)"
   ]
  },
  {
   "cell_type": "code",
   "execution_count": 14,
   "metadata": {},
   "outputs": [
    {
     "name": "stdout",
     "output_type": "stream",
     "text": [
      "Finish in: 0:00:00.042851\n"
     ]
    }
   ],
   "source": [
    "done = datetime.now()\n",
    "print('Finish in:', done - begin)"
   ]
  },
  {
   "cell_type": "markdown",
   "metadata": {},
   "source": [
    "## Results"
   ]
  },
  {
   "cell_type": "code",
   "execution_count": 15,
   "metadata": {},
   "outputs": [
    {
     "name": "stdout",
     "output_type": "stream",
     "text": [
      "{1: [3], 3: [1, 4, 5, 6], 2: [4], 4: [2, 3, 5, 6], 5: [3, 4, 6, 7], 6: [3, 4, 5, 8], 7: [5, 8], 8: [6, 7]}\n",
      "{1: [3], 3: [1, 4, 5, 6], 4: [3, 5, 6], 5: [3, 4, 6], 6: [3, 4, 5]}\n",
      "{2: [], 7: [8], 8: [7]}\n"
     ]
    }
   ],
   "source": [
    "if verbose:\n",
    "    print(graph)\n",
    "    print(cluster)\n",
    "    print(remain)"
   ]
  },
  {
   "cell_type": "code",
   "execution_count": 16,
   "metadata": {},
   "outputs": [],
   "source": [
    "import json\n",
    " \n",
    "j = json.dumps(cluster)\n",
    "f = open(\"cluster.json\",\"w\")\n",
    "f.write(j)\n",
    "f.close()"
   ]
  },
  {
   "cell_type": "code",
   "execution_count": null,
   "metadata": {},
   "outputs": [],
   "source": []
  }
 ],
 "metadata": {
  "kernelspec": {
   "display_name": "Python 3",
   "language": "python",
   "name": "python3"
  },
  "language_info": {
   "codemirror_mode": {
    "name": "ipython",
    "version": 3
   },
   "file_extension": ".py",
   "mimetype": "text/x-python",
   "name": "python",
   "nbconvert_exporter": "python",
   "pygments_lexer": "ipython3",
   "version": "3.6.6"
  }
 },
 "nbformat": 4,
 "nbformat_minor": 2
}
