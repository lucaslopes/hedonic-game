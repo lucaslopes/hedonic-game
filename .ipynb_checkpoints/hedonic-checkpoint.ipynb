{
 "cells": [
  {
   "cell_type": "markdown",
   "metadata": {},
   "source": [
    "# Hedonic Clustering\n",
    "> _Finding Clusters with Cooperative Game Theory._<br/>\n",
    "> A research experiment of _Daniel Sadoc_$^\\ast$ and _Lucas Lopes_$^\\ast$.<br/>\n",
    "> $^\\ast$Federal University of Rio de Janeiro.<br/>\n",
    "> December, 2018.\n",
    "\n",
    "## Parameters\n",
    "For convenience and reachability, let's put the parameters on top.<br/>\n",
    "To understand each parameter, click: [dataset](#converting-a-csv-file-to-a-python-dictionary), [initial](#creating-the-initial-condicions), [verbose](#printing-the-algorithm-steps), [alpha](#-main-function)"
   ]
  },
  {
   "cell_type": "code",
   "execution_count": 1,
   "metadata": {},
   "outputs": [],
   "source": [
    "dataset = \"datasets/samples/sample_2.csv\"\n",
    "initial = ['e']\n",
    "verbose = True\n",
    "alpha   = 0.95"
   ]
  },
  {
   "cell_type": "markdown",
   "metadata": {},
   "source": [
    "## Main Function\n",
    "\n",
    "The hedonic function tells how good a node is 'fit' in a given network.\n",
    "It takes:\n",
    "\n",
    "1. A $\\alpha$ value, where $\\alpha \\in [0,1]$ (_closer to 1 is broader_);\n",
    "2. The number of vertices in a particular graph;\n",
    "3. The number of connections that a node (in this graph) has.\n",
    "\n",
    "And returns the _\"score\"_ of that node."
   ]
  },
  {
   "cell_type": "code",
   "execution_count": 2,
   "metadata": {},
   "outputs": [],
   "source": [
    "def hedonic(alpha, num_vert, my_connections):\n",
    "    a = (1 - alpha) *             my_connections\n",
    "    b =      alpha  * (num_vert - my_connections - 1)\n",
    "    return a - b"
   ]
  },
  {
   "cell_type": "markdown",
   "metadata": {},
   "source": [
    "## Helper Functions"
   ]
  },
  {
   "cell_type": "markdown",
   "metadata": {},
   "source": [
    "### Converting a CSV file to a Python Dictionary\n",
    "\n",
    "Since the graph network is represented as a dictonary in the form$^\\ast$, and usually a dataset that stores a network is in the _.csv_ format, it is helpful to have a function that convert a dataset in a form that the algorithm can read and operate on it.\n",
    "\n",
    "To do so, the _.csv_ file must be in the following way:\n",
    "\n",
    "| From Node | To Node  |\n",
    "| :-------: | :------: |\n",
    "| _number_  | _number_ |\n",
    "\n",
    "$^\\ast$**Key** is the vertices; and **Value** is a list of its connections."
   ]
  },
  {
   "cell_type": "code",
   "execution_count": 3,
   "metadata": {},
   "outputs": [],
   "source": [
    "import csv\n",
    "\n",
    "def insert(d, a, b):\n",
    "    if a not in d:\n",
    "        d[a] = [b]\n",
    "    elif b not in d[a]:\n",
    "        d[a].append(b)\n",
    "    return d\n",
    "\n",
    "def csv_2_dict(file):\n",
    "    d = {}\n",
    "    with open(file, 'r') as f:\n",
    "        table = csv.reader(f)\n",
    "        for row in table:\n",
    "            a = int(row[0])\n",
    "            b = int(row[1])\n",
    "            d = insert(d, a, b)\n",
    "            d = insert(d, b, a)\n",
    "    return d"
   ]
  },
  {
   "cell_type": "markdown",
   "metadata": {},
   "source": [
    "### Doing graph operations in a Dictionary\n",
    "\n",
    "It is possible to do many operations in a graph, such as:\n",
    "\n",
    "- Add a new vertice;\n",
    "- Remove an old one;\n",
    "- Move a vertice from a graph to another.\n",
    "\n",
    "So here are helper functions to do this above operations. But before that, we need to import the _copy_ library because of this$^\\ast$.\n",
    "\n",
    "$^\\ast$`dict.copy()` method do a [shallow copy](https://docs.python.org/2/library/stdtypes.html#dict.copy). We need a [deep copy](https://docs.python.org/2/library/copy.html#copy.deepcopy) to avoid [this problem](https://stackoverflow.com/questions/3975376/understanding-dict-copy-shallow-or-deep)."
   ]
  },
  {
   "cell_type": "code",
   "execution_count": 4,
   "metadata": {},
   "outputs": [],
   "source": [
    "import copy\n",
    "\n",
    "def add(vert, original):\n",
    "    g = copy.deepcopy(original)\n",
    "    g[vert] = []\n",
    "    for key in g:\n",
    "        if vert in graph[key]:\n",
    "            g[key].append(vert)\n",
    "            g[vert].append(key)\n",
    "    return g\n",
    "\n",
    "def remove(vert, original):\n",
    "    g = copy.deepcopy(original)\n",
    "    for v in g[vert]:\n",
    "        g[v].remove(vert)\n",
    "    g.pop(vert)\n",
    "    return g\n",
    "\n",
    "def move(verts, from_g, to_g):\n",
    "    if type(verts) is list:\n",
    "        for v in verts:\n",
    "            from_g = remove(v, from_g)\n",
    "            to_g   = add(v, to_g)\n",
    "    else:\n",
    "        from_g = remove(verts, from_g)\n",
    "        to_g   = add(verts, to_g)\n",
    "    return from_g, to_g"
   ]
  },
  {
   "cell_type": "markdown",
   "metadata": {},
   "source": [
    "### Creating the initial condicions\n",
    "\n",
    "We have 2 graphs, one is the _cluster_ that we're looking for, e the other one is the original graph without those nodes in the cluster (a.k.a _remain_).\n",
    "\n",
    "These 2 graphs (_cluster_ and _remain_) could be initiate in different ways, varying by answer this questions:\n",
    "\n",
    "1. How many nodes?\n",
    "2. It will be manually selected or random choices?\n",
    "\n",
    "To do this different combinations, just change the value of the variable `init`.<br/>\n",
    "There are 3 modes and its respectives parameters:\n",
    "\n",
    "1. **Random mode**<br/>\n",
    "    - Select a specific number of vertices randomly.<br/>\n",
    "    - `['r', num]` where `num` is the amount that will be selected.\n",
    "\n",
    "\n",
    "2. **Select mode**<br/>\n",
    "    - Inform the specific vertices that you want to initiate.<br/>\n",
    "    - `['s', num]` where `num` could be just the # of vertice or a list of them.\n",
    "    \n",
    "    \n",
    "3. **Empty mode**<br/>\n",
    "    - Initiate with no vertices.<br/>\n",
    "    - `['e']` (It is the same that initiate with all node, just changes the reference)"
   ]
  },
  {
   "cell_type": "code",
   "execution_count": 5,
   "metadata": {},
   "outputs": [],
   "source": [
    "import random\n",
    "\n",
    "def rand(amount):\n",
    "    v = []\n",
    "    i = 0\n",
    "    if amount < 0:\n",
    "        amount += len(graph)\n",
    "    while i < amount:\n",
    "        r = random.choice(list(graph.keys()))\n",
    "        if r not in v:\n",
    "            v.append(r)\n",
    "            i += 1\n",
    "    return v\n",
    "\n",
    "def init(option):\n",
    "    \n",
    "    if option[0] == 's':\n",
    "        return option[1]\n",
    "    \n",
    "    if option[0] == 'r':\n",
    "        return rand(option[1])\n",
    "    \n",
    "    if option[0] == 'e':\n",
    "        return []"
   ]
  },
  {
   "cell_type": "markdown",
   "metadata": {},
   "source": [
    "### Printing the algorithm steps\n",
    "\n",
    "If the verbose mode is activate (_i.e._ `verbose == True`) it will print, at each iteration, this informations:\n",
    "\n",
    "- The nodes and its hedonic value for move and stay where they are;\n",
    "- Which nodes are in the _cluster_ and which is in _remain_;\n",
    "- Who will move and what is its alpha."
   ]
  },
  {
   "cell_type": "code",
   "execution_count": 6,
   "metadata": {},
   "outputs": [],
   "source": [
    "def print_desire(n, m, s):\n",
    "    print('node:', n, '| move: {:.2f} | stay: {:.2f}'.format(m, s))\n",
    "\n",
    "def print_node(w):\n",
    "    print('\\n-> will move:', w[0], '| its alpha: {:.2f}'.format(w[1]))\n",
    "    \n",
    "separator  = '\\n%%%%%%%%%%%%%%%%%%%%%%%%%%%%%%%%%%%\\n'\n",
    "graph_diff = '----- /cluster\\ ---- \\\\remain/ -----'"
   ]
  },
  {
   "cell_type": "markdown",
   "metadata": {},
   "source": [
    "## Learning Funcions"
   ]
  },
  {
   "cell_type": "markdown",
   "metadata": {},
   "source": [
    "### Tells by how much a node wants to move\n",
    "\n",
    "- It receives a node, its graph and the other graph which will be compare to;\n",
    "- Calculate the hedonic value of been here, and if it chose to move;\n",
    "- If the move desire is greater or equal$^\\ast$ than staying here, the function returns its respective hedonic value;\n",
    "- Else it return _negative inifinity_, because we only care about who want to move.\n",
    "\n",
    "$^\\ast$Let's consider a draw as _move_, because if has someone with a greater move desire, it will be given priority to it."
   ]
  },
  {
   "cell_type": "code",
   "execution_count": 7,
   "metadata": {},
   "outputs": [],
   "source": [
    "def move_desire(node, here, other):\n",
    "    there = add(node, other)\n",
    "    stay  = hedonic(alpha, len(here), len(here[node]))\n",
    "    move  = hedonic(alpha, len(there), len(there[node]))\n",
    "    \n",
    "    if verbose: print_desire(node, move, stay)\n",
    "    \n",
    "    if move >= stay:\n",
    "        return move\n",
    "    else:\n",
    "        return float(\"-inf\")"
   ]
  },
  {
   "cell_type": "markdown",
   "metadata": {},
   "source": [
    "### Who has the greater move desire?\n",
    "\n",
    "- It receives the node with the greater move desire so far, the reference graph and the other one;\n",
    "- Ask for wach node its desire to move;\n",
    "- If its desire is greater than the current chosen one, it'll be the new chosen node."
   ]
  },
  {
   "cell_type": "code",
   "execution_count": 8,
   "metadata": {},
   "outputs": [],
   "source": [
    "def who_will_move(chosen_node, reference_g, other_g):\n",
    "\n",
    "    for key in reference_g:\n",
    "        node_desire = move_desire(key, reference_g, other_g)\n",
    "        \n",
    "        if node_desire > chosen_node[1]:\n",
    "            chosen_node = [key, node_desire]\n",
    "    \n",
    "    return chosen_node"
   ]
  },
  {
   "cell_type": "markdown",
   "metadata": {},
   "source": [
    "### Convergence\n",
    "\n",
    "- It receives both _cluster_ and _remain_ graphs;\n",
    "- Iterate to each of them to know who will move in the next iteration;\n",
    "- If there's no one who want to move, the algorthm converged and return the 2 graphs."
   ]
  },
  {
   "cell_type": "code",
   "execution_count": 9,
   "metadata": {},
   "outputs": [],
   "source": [
    "def converge(remain, cluster):\n",
    "    \n",
    "    wanna_move = True\n",
    "    while wanna_move:\n",
    "\n",
    "        if verbose:   print(separator)\n",
    "        chosen_node = [None, float(\"-inf\")]\n",
    "        chosen_node = who_will_move(chosen_node, cluster, remain)        \n",
    "        if verbose:   print(graph_diff)\n",
    "        chosen_node = who_will_move(chosen_node, remain, cluster)\n",
    "        if verbose:   print_node(chosen_node)\n",
    "        \n",
    "        if chosen_node[0]:\n",
    "            if chosen_node[0] in cluster:\n",
    "                cluster, remain = move(chosen_node[0], cluster, remain)\n",
    "            else:\n",
    "                remain, cluster = move(chosen_node[0], remain, cluster)\n",
    "        else:\n",
    "            wanna_move = False\n",
    "\n",
    "    return remain, cluster"
   ]
  },
  {
   "cell_type": "markdown",
   "metadata": {},
   "source": [
    "### Set the original graph and initial condicions\n",
    "\n",
    "- Convert the dataset that was selected to a dictonary;\n",
    "- Read the initiate option."
   ]
  },
  {
   "cell_type": "code",
   "execution_count": 10,
   "metadata": {},
   "outputs": [],
   "source": [
    "graph = csv_2_dict(dataset)\n",
    "init  = init(initial)"
   ]
  },
  {
   "cell_type": "markdown",
   "metadata": {},
   "source": [
    "### Register the begin time\n",
    "\n",
    "- Get the current time just before the training begin."
   ]
  },
  {
   "cell_type": "code",
   "execution_count": 11,
   "metadata": {},
   "outputs": [],
   "source": [
    "from datetime import datetime\n",
    "begin = datetime.now()"
   ]
  },
  {
   "cell_type": "markdown",
   "metadata": {},
   "source": [
    "### Training!\n",
    "\n",
    "- Create the _cluster_ and _remain_ graphs;\n",
    "- Seek for convegence."
   ]
  },
  {
   "cell_type": "code",
   "execution_count": 12,
   "metadata": {
    "scrolled": false
   },
   "outputs": [
    {
     "name": "stdout",
     "output_type": "stream",
     "text": [
      "\n",
      "%%%%%%%%%%%%%%%%%%%%%%%%%%%%%%%%%%%\n",
      "\n",
      "----- /cluster\\ ---- \\remain/ -----\n",
      "node: 1 | move: 0.00 | stay: -5.65\n",
      "node: 3 | move: 0.00 | stay: -2.65\n",
      "node: 2 | move: 0.00 | stay: -5.65\n",
      "node: 4 | move: 0.00 | stay: -2.65\n",
      "node: 5 | move: 0.00 | stay: -2.65\n",
      "node: 6 | move: 0.00 | stay: -2.65\n",
      "node: 7 | move: 0.00 | stay: -4.65\n",
      "node: 8 | move: 0.00 | stay: -4.65\n",
      "\n",
      "-> will move: 1 | its alpha: 0.00\n",
      "\n",
      "%%%%%%%%%%%%%%%%%%%%%%%%%%%%%%%%%%%\n",
      "\n",
      "node: 1 | move: -5.65 | stay: 0.00\n",
      "----- /cluster\\ ---- \\remain/ -----\n",
      "node: 3 | move: 0.05 | stay: -2.70\n",
      "node: 2 | move: -0.95 | stay: -4.70\n",
      "node: 4 | move: -0.95 | stay: -1.70\n",
      "node: 5 | move: -0.95 | stay: -1.70\n",
      "node: 6 | move: -0.95 | stay: -1.70\n",
      "node: 7 | move: -0.95 | stay: -3.70\n",
      "node: 8 | move: -0.95 | stay: -3.70\n",
      "\n",
      "-> will move: 3 | its alpha: 0.05\n",
      "\n",
      "%%%%%%%%%%%%%%%%%%%%%%%%%%%%%%%%%%%\n",
      "\n",
      "node: 1 | move: -5.70 | stay: 0.05\n",
      "node: 3 | move: -2.70 | stay: 0.05\n",
      "----- /cluster\\ ---- \\remain/ -----\n",
      "node: 2 | move: -1.90 | stay: -3.75\n",
      "node: 4 | move: -0.90 | stay: -1.75\n",
      "node: 5 | move: -0.90 | stay: -1.75\n",
      "node: 6 | move: -0.90 | stay: -1.75\n",
      "node: 7 | move: -1.90 | stay: -2.75\n",
      "node: 8 | move: -1.90 | stay: -2.75\n",
      "\n",
      "-> will move: 4 | its alpha: -0.90\n",
      "\n",
      "%%%%%%%%%%%%%%%%%%%%%%%%%%%%%%%%%%%\n",
      "\n",
      "node: 1 | move: -4.75 | stay: -0.90\n",
      "node: 3 | move: -2.75 | stay: 0.10\n",
      "node: 4 | move: -1.75 | stay: -0.90\n",
      "----- /cluster\\ ---- \\remain/ -----\n",
      "node: 2 | move: -1.85 | stay: -3.80\n",
      "node: 5 | move: -0.85 | stay: -1.80\n",
      "node: 6 | move: -0.85 | stay: -1.80\n",
      "node: 7 | move: -2.85 | stay: -1.80\n",
      "node: 8 | move: -2.85 | stay: -1.80\n",
      "\n",
      "-> will move: 5 | its alpha: -0.85\n",
      "\n",
      "%%%%%%%%%%%%%%%%%%%%%%%%%%%%%%%%%%%\n",
      "\n",
      "node: 1 | move: -3.80 | stay: -1.85\n",
      "node: 3 | move: -2.80 | stay: 0.15\n",
      "node: 4 | move: -1.80 | stay: -0.85\n",
      "node: 5 | move: -1.80 | stay: -0.85\n",
      "----- /cluster\\ ---- \\remain/ -----\n",
      "node: 2 | move: -2.80 | stay: -2.85\n",
      "node: 6 | move: -0.80 | stay: -1.85\n",
      "node: 7 | move: -2.80 | stay: -1.85\n",
      "node: 8 | move: -3.80 | stay: -0.85\n",
      "\n",
      "-> will move: 6 | its alpha: -0.80\n",
      "\n",
      "%%%%%%%%%%%%%%%%%%%%%%%%%%%%%%%%%%%\n",
      "\n",
      "node: 1 | move: -2.85 | stay: -2.80\n",
      "node: 3 | move: -2.85 | stay: 0.20\n",
      "node: 4 | move: -1.85 | stay: -0.80\n",
      "node: 5 | move: -1.85 | stay: -0.80\n",
      "node: 6 | move: -1.85 | stay: -0.80\n",
      "----- /cluster\\ ---- \\remain/ -----\n",
      "node: 2 | move: -3.75 | stay: -1.90\n",
      "node: 7 | move: -3.75 | stay: -0.90\n",
      "node: 8 | move: -3.75 | stay: -0.90\n",
      "\n",
      "-> will move: None | its alpha: -inf\n"
     ]
    }
   ],
   "source": [
    "remain, cluster = move(init, graph, {})\n",
    "remain, cluster = converge(remain, cluster)"
   ]
  },
  {
   "cell_type": "markdown",
   "metadata": {},
   "source": [
    "### How long did it takes?\n",
    "\n",
    "- Print the diffent between the time when the training started and finished."
   ]
  },
  {
   "cell_type": "code",
   "execution_count": 13,
   "metadata": {},
   "outputs": [
    {
     "name": "stdout",
     "output_type": "stream",
     "text": [
      "Converge in: 0:00:00.046186\n"
     ]
    }
   ],
   "source": [
    "done = datetime.now()\n",
    "print('Converge in:', done - begin)"
   ]
  },
  {
   "cell_type": "markdown",
   "metadata": {},
   "source": [
    "## Results"
   ]
  },
  {
   "cell_type": "markdown",
   "metadata": {},
   "source": [
    "### Showing the graphs\n",
    "\n",
    "- Print the original graph, the result cluster, and the remain."
   ]
  },
  {
   "cell_type": "code",
   "execution_count": 14,
   "metadata": {
    "scrolled": true
   },
   "outputs": [
    {
     "name": "stdout",
     "output_type": "stream",
     "text": [
      "\n",
      "graph:\n",
      " {1: [3], 3: [1, 4, 5, 6], 2: [4], 4: [2, 3, 5, 6], 5: [3, 4, 6, 7], 6: [3, 4, 5, 8], 7: [5, 8], 8: [6, 7]}\n",
      "\n",
      "cluster:\n",
      " {1: [3], 3: [1, 4, 5, 6], 4: [3, 5, 6], 5: [3, 4, 6], 6: [3, 4, 5]}\n",
      "\n",
      "remain:\n",
      " {2: [], 7: [8], 8: [7]}\n"
     ]
    }
   ],
   "source": [
    "if verbose:\n",
    "    print('\\ngraph:\\n', graph)\n",
    "    print('\\ncluster:\\n', cluster)\n",
    "    print('\\nremain:\\n', remain)"
   ]
  },
  {
   "cell_type": "markdown",
   "metadata": {},
   "source": [
    "### Export cluster\n",
    "\n",
    "- Export the resulting _cluster_ dictionary into a JSON file."
   ]
  },
  {
   "cell_type": "code",
   "execution_count": 15,
   "metadata": {},
   "outputs": [],
   "source": [
    "import json\n",
    " \n",
    "j = json.dumps(cluster)\n",
    "f = open(\"cluster.json\",\"w\")\n",
    "f.write(j)\n",
    "f.close()"
   ]
  }
 ],
 "metadata": {
  "kernelspec": {
   "display_name": "Python 3",
   "language": "python",
   "name": "python3"
  },
  "language_info": {
   "codemirror_mode": {
    "name": "ipython",
    "version": 3
   },
   "file_extension": ".py",
   "mimetype": "text/x-python",
   "name": "python",
   "nbconvert_exporter": "python",
   "pygments_lexer": "ipython3",
   "version": "3.6.6"
  }
 },
 "nbformat": 4,
 "nbformat_minor": 2
}
