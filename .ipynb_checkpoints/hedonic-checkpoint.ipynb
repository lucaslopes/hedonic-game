{
 "cells": [
  {
   "cell_type": "code",
   "execution_count": 1,
   "metadata": {},
   "outputs": [],
   "source": [
    "def hedonic(alpha, num_vert, my_connections):\n",
    "    a = (1 - alpha) *             my_connections\n",
    "    b =      alpha  * (num_vert - my_connections - 1)\n",
    "    return a - b"
   ]
  },
  {
   "cell_type": "code",
   "execution_count": 2,
   "metadata": {},
   "outputs": [],
   "source": [
    "import csv\n",
    "\n",
    "def csv_2_dict(file):\n",
    "    d = {}\n",
    "    v = []\n",
    "    i = 1\n",
    "    with open(file, 'r') as f:\n",
    "        table = csv.reader(f)\n",
    "        for row in table:\n",
    "            a = int(row[0])\n",
    "            b = int(row[1])\n",
    "            if a == i:\n",
    "                v.append(b)\n",
    "            else:\n",
    "                d[i] = v\n",
    "                i    = a\n",
    "                v    = [b]\n",
    "    d[i] = v\n",
    "    v    = [b]\n",
    "    return d"
   ]
  },
  {
   "cell_type": "code",
   "execution_count": 3,
   "metadata": {},
   "outputs": [],
   "source": [
    "import copy\n",
    "\n",
    "def add(other, node):\n",
    "    graph = copy.deepcopy(other)\n",
    "    graph[node] = []\n",
    "    \n",
    "    return graph\n",
    "\n",
    "def remove(other, node):\n",
    "    graph = copy.deepcopy(other)\n",
    "    \n",
    "    for v in graph[node]:\n",
    "        graph[v].remove(node)\n",
    "    \n",
    "    graph.pop(node)\n",
    "    return graph\n",
    "    \n",
    "def move(from_g, to_g, node):\n",
    "    remain  = remove(from_g, node)\n",
    "    cluster = add(to_g, node)\n",
    "    \n",
    "    return remain, cluster"
   ]
  },
  {
   "cell_type": "code",
   "execution_count": 4,
   "metadata": {},
   "outputs": [],
   "source": [
    "def new_graph(other, node):\n",
    "    \n",
    "    graph = copy.deepcopy(other)\n",
    "    graph[node] = []\n",
    "    \n",
    "    for key in graph:\n",
    "        if node in dcti[key]:\n",
    "            graph[key].append(node)\n",
    "            graph[node].append(key)\n",
    "    return graph"
   ]
  },
  {
   "cell_type": "code",
   "execution_count": 5,
   "metadata": {},
   "outputs": [],
   "source": [
    "def want_to_move(node, here, other, alpha):\n",
    "    stay_desire = hedonic(alpha, len(here), len(here[node]))\n",
    "    there       = new_graph(other, node)\n",
    "    move_desire = hedonic(alpha, len(there), len(there[node]))\n",
    "    \n",
    "    print('node:', node, '/ move: {:.2f} / stay: {:.2f}'.format(move_desire, stay_desire))\n",
    "    \n",
    "    if move_desire >= stay_desire:\n",
    "        return move_desire\n",
    "    else:\n",
    "        return float(\"-inf\")"
   ]
  },
  {
   "cell_type": "code",
   "execution_count": 6,
   "metadata": {},
   "outputs": [],
   "source": [
    "def tell_me(winner_node, my_graph, other_graph, alpha):\n",
    "\n",
    "    for key in my_graph:\n",
    "        node_desire = want_to_move(key, my_graph, other_graph, alpha)\n",
    "        \n",
    "        if winner_node[1] < node_desire:\n",
    "            winner_node = [key, node_desire]\n",
    "    \n",
    "    return winner_node"
   ]
  },
  {
   "cell_type": "code",
   "execution_count": 7,
   "metadata": {},
   "outputs": [],
   "source": [
    "def local_cluster(alpha, remain, cluster):\n",
    "    \n",
    "    wanna_move = True\n",
    "\n",
    "    while wanna_move:\n",
    "\n",
    "        print('\\n%%%%%%%%%%%%%%%%%%\\n')\n",
    "        \n",
    "        winner_node = [None, float(\"-inf\")]\n",
    "        winner_node = tell_me(winner_node, remain, cluster, alpha)\n",
    "        winner_node = tell_me(winner_node, cluster, remain, alpha)\n",
    "        \n",
    "        if winner_node[0] and winner_node[0] in remain:\n",
    "            cluster = new_graph(cluster, winner_node[0])\n",
    "            remain  = remove(remain, winner_node[0])\n",
    "        \n",
    "        elif winner_node[0] and winner_node[0] not in remain:\n",
    "            cluster = new_graph(remain, winner_node[0])\n",
    "            remain  = remove(cluster, winner_node[0])\n",
    "        \n",
    "        else:\n",
    "            wanna_move = False\n",
    "\n",
    "    return remain, cluster"
   ]
  },
  {
   "cell_type": "code",
   "execution_count": 8,
   "metadata": {},
   "outputs": [],
   "source": [
    "#import random\n",
    "\n",
    "alpha = 0.95\n",
    "\n",
    "path = \"./datasets/samples/sample_2.csv\"\n",
    "dcti = csv_2_dict(path)\n",
    "init = 1 #random.randint(0, len(dcti))\n",
    "\n",
    "remain, cluster = move(dcti, {}, init)"
   ]
  },
  {
   "cell_type": "code",
   "execution_count": 9,
   "metadata": {
    "scrolled": false
   },
   "outputs": [
    {
     "name": "stdout",
     "output_type": "stream",
     "text": [
      "\n",
      "%%%%%%%%%%%%%%%%%%\n",
      "\n",
      "node: 2 / move: -0.95 / stay: -4.70\n",
      "node: 3 / move: 0.05 / stay: -2.70\n",
      "node: 4 / move: -0.95 / stay: -1.70\n",
      "node: 5 / move: -0.95 / stay: -1.70\n",
      "node: 6 / move: -0.95 / stay: -1.70\n",
      "node: 7 / move: -0.95 / stay: -3.70\n",
      "node: 8 / move: -0.95 / stay: -3.70\n",
      "node: 1 / move: -5.65 / stay: 0.00\n",
      "\n",
      "%%%%%%%%%%%%%%%%%%\n",
      "\n",
      "node: 2 / move: -1.90 / stay: -3.75\n",
      "node: 4 / move: -0.90 / stay: -1.75\n",
      "node: 5 / move: -0.90 / stay: -1.75\n",
      "node: 6 / move: -0.90 / stay: -1.75\n",
      "node: 7 / move: -1.90 / stay: -2.75\n",
      "node: 8 / move: -1.90 / stay: -2.75\n",
      "node: 1 / move: -5.70 / stay: 0.05\n",
      "node: 3 / move: -2.70 / stay: 0.05\n",
      "\n",
      "%%%%%%%%%%%%%%%%%%\n",
      "\n",
      "node: 2 / move: -1.85 / stay: -3.80\n",
      "node: 5 / move: -0.85 / stay: -1.80\n",
      "node: 6 / move: -0.85 / stay: -1.80\n",
      "node: 7 / move: -2.85 / stay: -1.80\n",
      "node: 8 / move: -2.85 / stay: -1.80\n",
      "node: 1 / move: -4.75 / stay: -0.90\n",
      "node: 3 / move: -2.75 / stay: 0.10\n",
      "node: 4 / move: -1.75 / stay: -0.90\n",
      "\n",
      "%%%%%%%%%%%%%%%%%%\n",
      "\n",
      "node: 2 / move: -2.80 / stay: -2.85\n",
      "node: 6 / move: -0.80 / stay: -1.85\n",
      "node: 7 / move: -2.80 / stay: -1.85\n",
      "node: 8 / move: -3.80 / stay: -0.85\n",
      "node: 1 / move: -3.80 / stay: -1.85\n",
      "node: 3 / move: -2.80 / stay: 0.15\n",
      "node: 4 / move: -1.80 / stay: -0.85\n",
      "node: 5 / move: -1.80 / stay: -0.85\n",
      "\n",
      "%%%%%%%%%%%%%%%%%%\n",
      "\n",
      "node: 2 / move: -3.75 / stay: -1.90\n",
      "node: 7 / move: -3.75 / stay: -0.90\n",
      "node: 8 / move: -3.75 / stay: -0.90\n",
      "node: 1 / move: -2.85 / stay: -2.80\n",
      "node: 3 / move: -2.85 / stay: 0.20\n",
      "node: 4 / move: -1.85 / stay: -0.80\n",
      "node: 5 / move: -1.85 / stay: -0.80\n",
      "node: 6 / move: -1.85 / stay: -0.80\n"
     ]
    }
   ],
   "source": [
    "remain, cluster = local_cluster(alpha, remain, cluster)"
   ]
  },
  {
   "cell_type": "code",
   "execution_count": 10,
   "metadata": {},
   "outputs": [
    {
     "data": {
      "text/plain": [
       "{1: [3], 3: [1, 4, 5, 6], 4: [3, 5, 6], 5: [3, 4, 6], 6: [3, 4, 5]}"
      ]
     },
     "execution_count": 10,
     "metadata": {},
     "output_type": "execute_result"
    }
   ],
   "source": [
    "cluster"
   ]
  },
  {
   "cell_type": "code",
   "execution_count": 11,
   "metadata": {},
   "outputs": [
    {
     "data": {
      "text/plain": [
       "{2: [], 7: [8], 8: [7]}"
      ]
     },
     "execution_count": 11,
     "metadata": {},
     "output_type": "execute_result"
    }
   ],
   "source": [
    "remain"
   ]
  },
  {
   "cell_type": "code",
   "execution_count": null,
   "metadata": {},
   "outputs": [],
   "source": []
  }
 ],
 "metadata": {
  "kernelspec": {
   "display_name": "Python 3",
   "language": "python",
   "name": "python3"
  },
  "language_info": {
   "codemirror_mode": {
    "name": "ipython",
    "version": 3
   },
   "file_extension": ".py",
   "mimetype": "text/x-python",
   "name": "python",
   "nbconvert_exporter": "python",
   "pygments_lexer": "ipython3",
   "version": "3.6.6"
  }
 },
 "nbformat": 4,
 "nbformat_minor": 2
}
