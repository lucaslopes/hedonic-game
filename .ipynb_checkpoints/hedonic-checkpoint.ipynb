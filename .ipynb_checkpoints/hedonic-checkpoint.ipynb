{
 "cells": [
  {
   "cell_type": "markdown",
   "metadata": {},
   "source": [
    "# Hedonic Clustering\n",
    "> _Finding Clusters with Cooperative Game Theory._<br/>\n",
    "> A research experiment of _Daniel Sadoc_$^\\ast$ and _Lucas Lopes_$^\\ast$.<br/>\n",
    "> $^\\ast$Federal University of Rio de Janeiro.<br/>\n",
    "> December, 2018.\n",
    "\n",
    "## Parameters\n",
    "For convenience and reachability, let's put the parameters on top.<br/>\n",
    "_Verbose_ will print algorithm's steps. To understand the others parameters, click: [dataset](), [initial]() and [alpha]()"
   ]
  },
  {
   "cell_type": "code",
   "execution_count": null,
   "metadata": {},
   "outputs": [],
   "source": [
    "#samples/sample_2.csv\n",
    "dataset = \"./datasets/conference/conference.csv\"\n",
    "initial = ['s', 0]\n",
    "verbose = False\n",
    "alpha   = 0.95"
   ]
  },
  {
   "cell_type": "markdown",
   "metadata": {},
   "source": [
    "## Main Function\n",
    "\n",
    "The hedonic function tells how good a node is 'fit' in a given network.\n",
    "It takes:\n",
    "\n",
    "1. A $\\alpha$ value, where $\\alpha \\in [0,1]$;\n",
    "2. The number of vertices in a particular graph;\n",
    "3. The number of connections that a node (in this graph) has.\n",
    "\n",
    "And returns the _\"score\"_ of that node."
   ]
  },
  {
   "cell_type": "code",
   "execution_count": null,
   "metadata": {},
   "outputs": [],
   "source": [
    "def hedonic(alpha, num_vert, my_connections):\n",
    "    a = (1 - alpha) *             my_connections\n",
    "    b =      alpha  * (num_vert - my_connections - 1)\n",
    "    return a - b"
   ]
  },
  {
   "cell_type": "markdown",
   "metadata": {},
   "source": [
    "## Helper Functions"
   ]
  },
  {
   "cell_type": "markdown",
   "metadata": {},
   "source": [
    "### Converting a CSV file to a Python Dictionary\n",
    "\n",
    "Since the graph network is represented as a dictonary in the form$^\\ast$, and usually a dataset that stores a network is in the _.csv_ format, it is helpful that have a function that convert a dataset in a form that the algorithm can read and operate on it.\n",
    "\n",
    "To do so, the _.csv_ file must be in the following way:\n",
    "\n",
    "| From Node | To Node  |\n",
    "| :-------: | :------: |\n",
    "| _number_  | _number_ |\n",
    "\n",
    "$^\\ast$**Key** is the vertices; and **Value** is a list of its connections."
   ]
  },
  {
   "cell_type": "code",
   "execution_count": null,
   "metadata": {},
   "outputs": [],
   "source": [
    "import csv"
   ]
  },
  {
   "cell_type": "code",
   "execution_count": null,
   "metadata": {},
   "outputs": [],
   "source": [
    "def atualiza(d, a, b):\n",
    "    if a not in d:\n",
    "        d[a] = [b]\n",
    "    elif b not in d[a]:\n",
    "        d[a].append(b)\n",
    "    return d\n",
    "\n",
    "def csv_2_d(file):\n",
    "    d = {}\n",
    "    with open(file, 'r') as f:\n",
    "        table = csv.reader(f)\n",
    "        for row in table:\n",
    "            a = int(row[0])\n",
    "            b = int(row[1])\n",
    "            d = atualiza(d, a, b)\n",
    "            d = atualiza(d, b, a)\n",
    "    return d"
   ]
  },
  {
   "cell_type": "code",
   "execution_count": null,
   "metadata": {},
   "outputs": [],
   "source": [
    "def csv_2_dict(file):\n",
    "    d = {}\n",
    "    v = []\n",
    "    i = 1\n",
    "    with open(file, 'r') as f:\n",
    "        table = csv.reader(f)\n",
    "        for row in table:\n",
    "            a = int(row[0])\n",
    "            b = int(row[1])\n",
    "            if a == i:\n",
    "                v.append(b)\n",
    "            else:\n",
    "                d[i] = v\n",
    "                i    = a\n",
    "                v    = [b]\n",
    "    d[i] = v\n",
    "    v    = [b]\n",
    "    return d"
   ]
  },
  {
   "cell_type": "markdown",
   "metadata": {},
   "source": [
    "### Doing graph operations in a Dictionary\n",
    "\n",
    "It is possible to do many operations in a graph, such as:\n",
    "\n",
    "- Add a new vertice;\n",
    "- Remove an old one;\n",
    "- Move a node from a graph to another.\n",
    "\n",
    "So here are helper functions to do that above operations. But before that, we need to import the _copy_ library because of this$^\\ast$.\n",
    "\n",
    "$^\\ast$`dict.copy()` method do a [shallow copy](https://docs.python.org/2/library/stdtypes.html#dict.copy). We need a [deep copy](https://docs.python.org/2/library/copy.html#copy.deepcopy) to avoid [this problem](https://stackoverflow.com/questions/3975376/understanding-dict-copy-shallow-or-deep)."
   ]
  },
  {
   "cell_type": "code",
   "execution_count": null,
   "metadata": {},
   "outputs": [],
   "source": [
    "import copy"
   ]
  },
  {
   "cell_type": "markdown",
   "metadata": {},
   "source": [
    "#### Adding Node"
   ]
  },
  {
   "cell_type": "code",
   "execution_count": null,
   "metadata": {},
   "outputs": [],
   "source": [
    "def add(original, node):\n",
    "    graph = copy.deepcopy(original)\n",
    "    graph[node] = []\n",
    "    \n",
    "    return graph"
   ]
  },
  {
   "cell_type": "markdown",
   "metadata": {},
   "source": [
    "#### Removing Node"
   ]
  },
  {
   "cell_type": "code",
   "execution_count": null,
   "metadata": {},
   "outputs": [],
   "source": [
    "def remove(original, node):\n",
    "    g = copy.deepcopy(original)\n",
    "\n",
    "    for v in g[node]:\n",
    "        g[v].remove(node)\n",
    "    \n",
    "    g.pop(node)\n",
    "    return g"
   ]
  },
  {
   "cell_type": "markdown",
   "metadata": {},
   "source": [
    "#### Moving Node"
   ]
  },
  {
   "cell_type": "code",
   "execution_count": null,
   "metadata": {},
   "outputs": [],
   "source": [
    "def move(from_g, to_g, node):\n",
    "    from_g = remove(from_g, node)\n",
    "    to_g   = add(to_g, node)\n",
    "    \n",
    "    return from_g, to_g"
   ]
  },
  {
   "cell_type": "markdown",
   "metadata": {},
   "source": [
    "#### We need one more function"
   ]
  },
  {
   "cell_type": "code",
   "execution_count": null,
   "metadata": {},
   "outputs": [],
   "source": [
    "def new_graph(other, node):\n",
    "    \n",
    "    g = copy.deepcopy(other)\n",
    "    g[node] = []\n",
    "    \n",
    "    for key in g:\n",
    "        \n",
    "        if node in graph[key]:\n",
    "            g[key].append(node)\n",
    "            g[node].append(key)\n",
    "    \n",
    "    return g"
   ]
  },
  {
   "cell_type": "markdown",
   "metadata": {},
   "source": [
    "#### Migrate a node to the other graph"
   ]
  },
  {
   "cell_type": "code",
   "execution_count": null,
   "metadata": {},
   "outputs": [],
   "source": [
    "def migrate(value, refer, other):\n",
    "    other  = new_graph(other, value)\n",
    "    refer  = remove(refer, value)\n",
    "\n",
    "    return refer, other"
   ]
  },
  {
   "cell_type": "markdown",
   "metadata": {},
   "source": [
    "### Printing steps information"
   ]
  },
  {
   "cell_type": "code",
   "execution_count": null,
   "metadata": {},
   "outputs": [],
   "source": [
    "def print_desire(n, m, s):\n",
    "    print('node:', n, '| move: {:.2f} | stay: {:.2f}'.format(m, s))\n",
    "\n",
    "def print_node(w):\n",
    "    print('\\n-> will move:', w[0], '| its alpha: {:.2f}'.format(w[1]))\n",
    "    \n",
    "separator  = '\\n%%%%%%%%%%%%%%%%%%%%%%%%%%%%%%%%%%%\\n'\n",
    "graph_diff = '----- /remain\\ ---- \\cluster/ -----'"
   ]
  },
  {
   "cell_type": "markdown",
   "metadata": {},
   "source": [
    "### Creating the initial condicions"
   ]
  },
  {
   "cell_type": "code",
   "execution_count": null,
   "metadata": {},
   "outputs": [],
   "source": [
    "import random\n",
    "\n",
    "def rand(amount):\n",
    "    v = []\n",
    "    for i in range(amount):\n",
    "        r = random.randint(0, len(graph))\n",
    "        v.append(r)\n",
    "    return "
   ]
  },
  {
   "cell_type": "code",
   "execution_count": null,
   "metadata": {},
   "outputs": [],
   "source": [
    "def init(option):\n",
    "    \n",
    "    if option[0] == 's':\n",
    "        return option[1]\n",
    "    \n",
    "    if option[0] == 'r':\n",
    "        return rand(option[1])\n",
    "    \n",
    "    if option[0] == 'e':\n",
    "        return []\n",
    "    \n",
    "    if option[0] == 'a':\n",
    "        return ['all']"
   ]
  },
  {
   "cell_type": "code",
   "execution_count": null,
   "metadata": {},
   "outputs": [],
   "source": [
    "graph = csv_2_d(dataset)\n",
    "init  = init(initial)"
   ]
  },
  {
   "cell_type": "markdown",
   "metadata": {},
   "source": [
    "## Learning Funcions"
   ]
  },
  {
   "cell_type": "markdown",
   "metadata": {},
   "source": [
    "### Tells if a node what to move and how much"
   ]
  },
  {
   "cell_type": "code",
   "execution_count": null,
   "metadata": {},
   "outputs": [],
   "source": [
    "def want_to_move(alpha, node, here, other):\n",
    "    stay_desire = hedonic(alpha, len(here), len(here[node]))\n",
    "    there       = new_graph(other, node)\n",
    "    move_desire = hedonic(alpha, len(there), len(there[node]))\n",
    "    \n",
    "    if verbose: print_desire(node, move_desire, stay_desire)\n",
    "    \n",
    "    if move_desire >= stay_desire:\n",
    "        return move_desire\n",
    "    else:\n",
    "        return float(\"-inf\")"
   ]
  },
  {
   "cell_type": "markdown",
   "metadata": {},
   "source": [
    "### Who is the node that want to move?"
   ]
  },
  {
   "cell_type": "code",
   "execution_count": null,
   "metadata": {},
   "outputs": [],
   "source": [
    "def who_want_move(alpha, chosen_node, my_graph, other_graph):\n",
    "\n",
    "    for key in my_graph:\n",
    "        node_desire = want_to_move(alpha, key, my_graph, other_graph)\n",
    "        \n",
    "        if chosen_node[1] < node_desire:\n",
    "            chosen_node = [key, node_desire]\n",
    "    \n",
    "    return chosen_node"
   ]
  },
  {
   "cell_type": "markdown",
   "metadata": {},
   "source": [
    "### Trainning Loop"
   ]
  },
  {
   "cell_type": "code",
   "execution_count": null,
   "metadata": {},
   "outputs": [],
   "source": [
    "def local_cluster(alpha, remain, cluster):\n",
    "    \n",
    "    wanna_move = True\n",
    "    while wanna_move:\n",
    "\n",
    "        if verbose:   print(separator)\n",
    "        chosen_node = [None, float(\"-inf\")]\n",
    "        chosen_node = who_want_move(alpha, chosen_node, remain, cluster)\n",
    "        if verbose:   print(graph_diff)\n",
    "        chosen_node = who_want_move(alpha, chosen_node, cluster, remain)\n",
    "        if verbose:   print_node(chosen_node)\n",
    "        \n",
    "        if chosen_node[0]:\n",
    "            if chosen_node[0] in remain:\n",
    "                remain, cluster = migrate(chosen_node[0], remain, cluster)\n",
    "            else:\n",
    "                remain, cluster = migrate(chosen_node[0], cluster, remain)\n",
    "        else:\n",
    "            wanna_move = False\n",
    "\n",
    "    return remain, cluster"
   ]
  },
  {
   "cell_type": "markdown",
   "metadata": {},
   "source": [
    "### Create the Remain and Cluster graphs and update them"
   ]
  },
  {
   "cell_type": "code",
   "execution_count": null,
   "metadata": {},
   "outputs": [],
   "source": [
    "from datetime import datetime\n",
    "print(datetime.now())"
   ]
  },
  {
   "cell_type": "code",
   "execution_count": null,
   "metadata": {
    "scrolled": false
   },
   "outputs": [],
   "source": [
    "remain, cluster = move(graph, {}, init)\n",
    "remain, cluster = local_cluster(alpha, remain, cluster)"
   ]
  },
  {
   "cell_type": "markdown",
   "metadata": {},
   "source": [
    "## Results"
   ]
  },
  {
   "cell_type": "code",
   "execution_count": null,
   "metadata": {},
   "outputs": [],
   "source": [
    "#print(graph)\n",
    "#print(cluster)\n",
    "#print(remain)"
   ]
  },
  {
   "cell_type": "code",
   "execution_count": null,
   "metadata": {},
   "outputs": [],
   "source": [
    "print(datetime.now())"
   ]
  },
  {
   "cell_type": "code",
   "execution_count": null,
   "metadata": {},
   "outputs": [],
   "source": []
  }
 ],
 "metadata": {
  "kernelspec": {
   "display_name": "Python 3",
   "language": "python",
   "name": "python3"
  },
  "language_info": {
   "codemirror_mode": {
    "name": "ipython",
    "version": 3
   },
   "file_extension": ".py",
   "mimetype": "text/x-python",
   "name": "python",
   "nbconvert_exporter": "python",
   "pygments_lexer": "ipython3",
   "version": "3.6.6"
  }
 },
 "nbformat": 4,
 "nbformat_minor": 2
}
